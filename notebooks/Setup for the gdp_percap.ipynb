{
 "cells": [
  {
   "cell_type": "code",
   "execution_count": 9,
   "id": "57e904c0",
   "metadata": {},
   "outputs": [],
   "source": [
    "import pandas as pd\n",
    "import numpy as np\n",
    "import matplotlib.pyplot as plt\n",
    "import seaborn as sns"
   ]
  },
  {
   "cell_type": "code",
   "execution_count": 10,
   "id": "b8a734a7",
   "metadata": {},
   "outputs": [],
   "source": [
    "%matplotlib inline"
   ]
  },
  {
   "cell_type": "code",
   "execution_count": 11,
   "id": "992a339e",
   "metadata": {},
   "outputs": [],
   "source": [
    "gdp_df = pd.read_csv(\"../data/gdp_percapita.csv.csv\")"
   ]
  },
  {
   "cell_type": "code",
   "execution_count": 12,
   "id": "3f865e38",
   "metadata": {
    "scrolled": true
   },
   "outputs": [],
   "source": [
    "internet_df = pd.read_csv(\"../data/internet_use.csv.csv\", nrows = 4496)"
   ]
  },
  {
   "cell_type": "markdown",
   "id": "4452b2d6",
   "metadata": {},
   "source": [
    "7. Look at the shape of each DataFrame - how many rows? How many columns"
   ]
  },
  {
   "cell_type": "code",
   "execution_count": 26,
   "id": "daa59fc5",
   "metadata": {},
   "outputs": [
    {
     "name": "stdout",
     "output_type": "stream",
     "text": [
      "info for gdp\n",
      "6870\n",
      "(6870, 4)\n",
      "info for internet\n",
      "4496\n",
      "(4496, 4)\n"
     ]
    }
   ],
   "source": [
    "row_count = len(gdp_df)\n",
    "column_count = gdp_df.shape\n",
    "row_row = len(internet_df)\n",
    "col_umn = internet_df.shape\n",
    "print(\"info for gdp\")\n",
    "print( row_count)\n",
    "print(column_count)\n",
    "print(\"info for internet\")\n",
    "print(row_row)\n",
    "print(col_umn)"
   ]
  },
  {
   "cell_type": "markdown",
   "id": "f38c87b0",
   "metadata": {},
   "source": [
    "8. Take a look at the datatypes for the columns in each DataFrame."
   ]
  },
  {
   "cell_type": "code",
   "execution_count": 40,
   "id": "f6596ec3",
   "metadata": {},
   "outputs": [
    {
     "data": {
      "text/plain": [
       "pandas.core.series.Series"
      ]
     },
     "execution_count": 40,
     "metadata": {},
     "output_type": "execute_result"
    }
   ],
   "source": [
    "#first run a test to see what the columns are actually called. \n",
    "#print(gdp_df)\n",
    "#print(internet_df)\n",
    "#then use a hashtag to comment out the print() and type the columns\n",
    "gdp_df.columns = [c.replace(' ', '_') for c in gdp_df.columns]\n",
    "internet_df.columns = [c.replace(' ', '_') for c in internet_df.columns]\n",
    "type(gdp_df.Country_or_Area)\n",
    "type(gdp_df.Year)\n",
    "type(gdp_df.Value)\n",
    "\n",
    "type(internet_df.Country)\n",
    "type(internet_df.Year)\n",
    "type(internet_df.Value)"
   ]
  },
  {
   "cell_type": "markdown",
   "id": "04f036d4",
   "metadata": {},
   "source": [
    "9. Take a look at the last 10 rows of each DataFrame in turn."
   ]
  },
  {
   "cell_type": "code",
   "execution_count": 41,
   "id": "97b39238",
   "metadata": {},
   "outputs": [
    {
     "data": {
      "text/html": [
       "<div>\n",
       "<style scoped>\n",
       "    .dataframe tbody tr th:only-of-type {\n",
       "        vertical-align: middle;\n",
       "    }\n",
       "\n",
       "    .dataframe tbody tr th {\n",
       "        vertical-align: top;\n",
       "    }\n",
       "\n",
       "    .dataframe thead th {\n",
       "        text-align: right;\n",
       "    }\n",
       "</style>\n",
       "<table border=\"1\" class=\"dataframe\">\n",
       "  <thead>\n",
       "    <tr style=\"text-align: right;\">\n",
       "      <th></th>\n",
       "      <th>Country</th>\n",
       "      <th>Year</th>\n",
       "      <th>Value</th>\n",
       "      <th>Value_Footnotes</th>\n",
       "    </tr>\n",
       "  </thead>\n",
       "  <tbody>\n",
       "    <tr>\n",
       "      <th>4486</th>\n",
       "      <td>Zimbabwe</td>\n",
       "      <td>2001</td>\n",
       "      <td>0.799846</td>\n",
       "      <td>NaN</td>\n",
       "    </tr>\n",
       "    <tr>\n",
       "      <th>4487</th>\n",
       "      <td>Zimbabwe</td>\n",
       "      <td>2000</td>\n",
       "      <td>0.401434</td>\n",
       "      <td>NaN</td>\n",
       "    </tr>\n",
       "    <tr>\n",
       "      <th>4488</th>\n",
       "      <td>Zimbabwe</td>\n",
       "      <td>1999</td>\n",
       "      <td>0.161676</td>\n",
       "      <td>NaN</td>\n",
       "    </tr>\n",
       "    <tr>\n",
       "      <th>4489</th>\n",
       "      <td>Zimbabwe</td>\n",
       "      <td>1998</td>\n",
       "      <td>0.081648</td>\n",
       "      <td>NaN</td>\n",
       "    </tr>\n",
       "    <tr>\n",
       "      <th>4490</th>\n",
       "      <td>Zimbabwe</td>\n",
       "      <td>1997</td>\n",
       "      <td>0.033080</td>\n",
       "      <td>NaN</td>\n",
       "    </tr>\n",
       "    <tr>\n",
       "      <th>4491</th>\n",
       "      <td>Zimbabwe</td>\n",
       "      <td>1996</td>\n",
       "      <td>0.016790</td>\n",
       "      <td>NaN</td>\n",
       "    </tr>\n",
       "    <tr>\n",
       "      <th>4492</th>\n",
       "      <td>Zimbabwe</td>\n",
       "      <td>1995</td>\n",
       "      <td>0.007684</td>\n",
       "      <td>NaN</td>\n",
       "    </tr>\n",
       "    <tr>\n",
       "      <th>4493</th>\n",
       "      <td>Zimbabwe</td>\n",
       "      <td>1994</td>\n",
       "      <td>0.001739</td>\n",
       "      <td>NaN</td>\n",
       "    </tr>\n",
       "    <tr>\n",
       "      <th>4494</th>\n",
       "      <td>Zimbabwe</td>\n",
       "      <td>1990</td>\n",
       "      <td>0.000000</td>\n",
       "      <td>NaN</td>\n",
       "    </tr>\n",
       "    <tr>\n",
       "      <th>4495</th>\n",
       "      <td>footnoteSeqID</td>\n",
       "      <td>Footnote</td>\n",
       "      <td>NaN</td>\n",
       "      <td>NaN</td>\n",
       "    </tr>\n",
       "  </tbody>\n",
       "</table>\n",
       "</div>"
      ],
      "text/plain": [
       "            Country      Year     Value  Value_Footnotes\n",
       "4486       Zimbabwe      2001  0.799846              NaN\n",
       "4487       Zimbabwe      2000  0.401434              NaN\n",
       "4488       Zimbabwe      1999  0.161676              NaN\n",
       "4489       Zimbabwe      1998  0.081648              NaN\n",
       "4490       Zimbabwe      1997  0.033080              NaN\n",
       "4491       Zimbabwe      1996  0.016790              NaN\n",
       "4492       Zimbabwe      1995  0.007684              NaN\n",
       "4493       Zimbabwe      1994  0.001739              NaN\n",
       "4494       Zimbabwe      1990  0.000000              NaN\n",
       "4495  footnoteSeqID  Footnote       NaN              NaN"
      ]
     },
     "execution_count": 41,
     "metadata": {},
     "output_type": "execute_result"
    }
   ],
   "source": [
    "gdp_df.tail(10) #start at the head or start at the tail?\n",
    "internet_df.tail(10)"
   ]
  },
  {
   "cell_type": "markdown",
   "id": "f82560db",
   "metadata": {},
   "source": [
    "10. Drop the value footnotes column from both DataFrames. Check that this worked as expected."
   ]
  },
  {
   "cell_type": "code",
   "execution_count": 42,
   "id": "9f6db74e",
   "metadata": {},
   "outputs": [
    {
     "data": {
      "text/html": [
       "<div>\n",
       "<style scoped>\n",
       "    .dataframe tbody tr th:only-of-type {\n",
       "        vertical-align: middle;\n",
       "    }\n",
       "\n",
       "    .dataframe tbody tr th {\n",
       "        vertical-align: top;\n",
       "    }\n",
       "\n",
       "    .dataframe thead th {\n",
       "        text-align: right;\n",
       "    }\n",
       "</style>\n",
       "<table border=\"1\" class=\"dataframe\">\n",
       "  <thead>\n",
       "    <tr style=\"text-align: right;\">\n",
       "      <th></th>\n",
       "      <th>Country</th>\n",
       "      <th>Year</th>\n",
       "      <th>Value</th>\n",
       "    </tr>\n",
       "  </thead>\n",
       "  <tbody>\n",
       "    <tr>\n",
       "      <th>0</th>\n",
       "      <td>Afghanistan</td>\n",
       "      <td>2014</td>\n",
       "      <td>6.390000</td>\n",
       "    </tr>\n",
       "    <tr>\n",
       "      <th>1</th>\n",
       "      <td>Afghanistan</td>\n",
       "      <td>2013</td>\n",
       "      <td>5.900000</td>\n",
       "    </tr>\n",
       "    <tr>\n",
       "      <th>2</th>\n",
       "      <td>Afghanistan</td>\n",
       "      <td>2012</td>\n",
       "      <td>5.454545</td>\n",
       "    </tr>\n",
       "  </tbody>\n",
       "</table>\n",
       "</div>"
      ],
      "text/plain": [
       "       Country  Year     Value\n",
       "0  Afghanistan  2014  6.390000\n",
       "1  Afghanistan  2013  5.900000\n",
       "2  Afghanistan  2012  5.454545"
      ]
     },
     "execution_count": 42,
     "metadata": {},
     "output_type": "execute_result"
    }
   ],
   "source": [
    "del gdp_df['Value_Footnotes']\n",
    "gdp_df.head(10)\n",
    "#had a bit of difficulty with this one as I initially attempted gdp_df.pop() and gdp_df.drop(['Value_Footnotes'])\n",
    "del internet_df['Value_Footnotes']\n",
    "internet_df.head(3)\n",
    "#it's easier to comment out one group rathe than run two"
   ]
  },
  {
   "cell_type": "markdown",
   "id": "bd7556bc",
   "metadata": {},
   "source": [
    "11. Change the columns for the GDP Per Capita DataFrame to ‘Country’, ‘Year’, and ‘GDP_Per_Capita’."
   ]
  },
  {
   "cell_type": "code",
   "execution_count": 43,
   "id": "b8d702d2",
   "metadata": {},
   "outputs": [
    {
     "name": "stdout",
     "output_type": "stream",
     "text": [
      "            Country                                      Year  GDP_Per_Capita\n",
      "0       Afghanistan                                      2019     2065.036398\n",
      "1       Afghanistan                                      2018     2033.779002\n",
      "2       Afghanistan                                      2017     2058.383832\n",
      "3       Afghanistan                                      2016     2057.062164\n",
      "4       Afghanistan                                      2015     2068.265904\n",
      "...             ...                                       ...             ...\n",
      "6865       Zimbabwe                                      1992     3054.889178\n",
      "6866       Zimbabwe                                      1991     3426.598094\n",
      "6867       Zimbabwe                                      1990     3324.348171\n",
      "6868  footnoteSeqID                                  Footnote             NaN\n",
      "6869              2  Excludes South Sudan after July 9, 2011.             NaN\n",
      "\n",
      "[6870 rows x 3 columns]\n"
     ]
    }
   ],
   "source": [
    "gdp_df.columns = ['Country', 'Year', 'GDP_Per_Capita']\n",
    "print(gdp_df)"
   ]
  },
  {
   "cell_type": "markdown",
   "id": "a710d2cc",
   "metadata": {},
   "source": [
    "12. Change the columns for the Internet Users DataFrame to ‘Country’, ‘Year’, and ‘Internet_Users_Pct’."
   ]
  },
  {
   "cell_type": "code",
   "execution_count": 44,
   "id": "1cd6767b",
   "metadata": {},
   "outputs": [
    {
     "name": "stdout",
     "output_type": "stream",
     "text": [
      "            Country      Year  Internet_Users_Pct\n",
      "0       Afghanistan      2014            6.390000\n",
      "1       Afghanistan      2013            5.900000\n",
      "2       Afghanistan      2012            5.454545\n",
      "3       Afghanistan      2011            5.000000\n",
      "4       Afghanistan      2010            4.000000\n",
      "...             ...       ...                 ...\n",
      "4491       Zimbabwe      1996            0.016790\n",
      "4492       Zimbabwe      1995            0.007684\n",
      "4493       Zimbabwe      1994            0.001739\n",
      "4494       Zimbabwe      1990            0.000000\n",
      "4495  footnoteSeqID  Footnote                 NaN\n",
      "\n",
      "[4496 rows x 3 columns]\n"
     ]
    }
   ],
   "source": [
    "internet_df.columns = ['Country', 'Year', 'Internet_Users_Pct']\n",
    "print(internet_df)"
   ]
  },
  {
   "cell_type": "markdown",
   "id": "7c5b7cbc",
   "metadata": {},
   "source": [
    "13. Merge the two DataFrames to one. Merge all rows from each of the two DataFrames. Call the new DataFrame gdp_and_internet_use."
   ]
  },
  {
   "cell_type": "code",
   "execution_count": 45,
   "id": "b4c09b9a",
   "metadata": {},
   "outputs": [
    {
     "data": {
      "text/html": [
       "<div>\n",
       "<style scoped>\n",
       "    .dataframe tbody tr th:only-of-type {\n",
       "        vertical-align: middle;\n",
       "    }\n",
       "\n",
       "    .dataframe tbody tr th {\n",
       "        vertical-align: top;\n",
       "    }\n",
       "\n",
       "    .dataframe thead th {\n",
       "        text-align: right;\n",
       "    }\n",
       "</style>\n",
       "<table border=\"1\" class=\"dataframe\">\n",
       "  <thead>\n",
       "    <tr style=\"text-align: right;\">\n",
       "      <th></th>\n",
       "      <th>Country</th>\n",
       "      <th>Year</th>\n",
       "      <th>GDP_Per_Capita</th>\n",
       "      <th>Internet_Users_Pct</th>\n",
       "    </tr>\n",
       "  </thead>\n",
       "  <tbody>\n",
       "    <tr>\n",
       "      <th>0</th>\n",
       "      <td>Afghanistan</td>\n",
       "      <td>2019</td>\n",
       "      <td>2065.036398</td>\n",
       "      <td>NaN</td>\n",
       "    </tr>\n",
       "    <tr>\n",
       "      <th>1</th>\n",
       "      <td>Afghanistan</td>\n",
       "      <td>2018</td>\n",
       "      <td>2033.779002</td>\n",
       "      <td>NaN</td>\n",
       "    </tr>\n",
       "    <tr>\n",
       "      <th>2</th>\n",
       "      <td>Afghanistan</td>\n",
       "      <td>2017</td>\n",
       "      <td>2058.383832</td>\n",
       "      <td>NaN</td>\n",
       "    </tr>\n",
       "    <tr>\n",
       "      <th>3</th>\n",
       "      <td>Afghanistan</td>\n",
       "      <td>2016</td>\n",
       "      <td>2057.062164</td>\n",
       "      <td>NaN</td>\n",
       "    </tr>\n",
       "    <tr>\n",
       "      <th>4</th>\n",
       "      <td>Afghanistan</td>\n",
       "      <td>2015</td>\n",
       "      <td>2068.265904</td>\n",
       "      <td>NaN</td>\n",
       "    </tr>\n",
       "  </tbody>\n",
       "</table>\n",
       "</div>"
      ],
      "text/plain": [
       "       Country  Year  GDP_Per_Capita  Internet_Users_Pct\n",
       "0  Afghanistan  2019     2065.036398                 NaN\n",
       "1  Afghanistan  2018     2033.779002                 NaN\n",
       "2  Afghanistan  2017     2058.383832                 NaN\n",
       "3  Afghanistan  2016     2057.062164                 NaN\n",
       "4  Afghanistan  2015     2068.265904                 NaN"
      ]
     },
     "execution_count": 45,
     "metadata": {},
     "output_type": "execute_result"
    }
   ],
   "source": [
    "gdp_and_internet_use = pd.merge(gdp_df, internet_df, how = \"left\", on = ['Country', 'Year'])\n",
    "\n",
    "gdp_and_internet_use.head()"
   ]
  },
  {
   "cell_type": "markdown",
   "id": "742d93e7",
   "metadata": {},
   "source": [
    "14. Look at the first five rows of your new DataFrame to confirm it merged correctly"
   ]
  },
  {
   "cell_type": "code",
   "execution_count": 20,
   "id": "2ea69445",
   "metadata": {},
   "outputs": [],
   "source": [
    "#way ahead of ya there, chief."
   ]
  },
  {
   "cell_type": "markdown",
   "id": "682b9226",
   "metadata": {},
   "source": [
    "15. Look at the last five rows to make sure the data is clean and as expected."
   ]
  },
  {
   "cell_type": "code",
   "execution_count": 46,
   "id": "dea97abd",
   "metadata": {},
   "outputs": [
    {
     "data": {
      "text/html": [
       "<div>\n",
       "<style scoped>\n",
       "    .dataframe tbody tr th:only-of-type {\n",
       "        vertical-align: middle;\n",
       "    }\n",
       "\n",
       "    .dataframe tbody tr th {\n",
       "        vertical-align: top;\n",
       "    }\n",
       "\n",
       "    .dataframe thead th {\n",
       "        text-align: right;\n",
       "    }\n",
       "</style>\n",
       "<table border=\"1\" class=\"dataframe\">\n",
       "  <thead>\n",
       "    <tr style=\"text-align: right;\">\n",
       "      <th></th>\n",
       "      <th>Country</th>\n",
       "      <th>Year</th>\n",
       "      <th>GDP_Per_Capita</th>\n",
       "      <th>Internet_Users_Pct</th>\n",
       "    </tr>\n",
       "  </thead>\n",
       "  <tbody>\n",
       "    <tr>\n",
       "      <th>6865</th>\n",
       "      <td>Zimbabwe</td>\n",
       "      <td>1992</td>\n",
       "      <td>3054.889178</td>\n",
       "      <td>NaN</td>\n",
       "    </tr>\n",
       "    <tr>\n",
       "      <th>6866</th>\n",
       "      <td>Zimbabwe</td>\n",
       "      <td>1991</td>\n",
       "      <td>3426.598094</td>\n",
       "      <td>NaN</td>\n",
       "    </tr>\n",
       "    <tr>\n",
       "      <th>6867</th>\n",
       "      <td>Zimbabwe</td>\n",
       "      <td>1990</td>\n",
       "      <td>3324.348171</td>\n",
       "      <td>0.0</td>\n",
       "    </tr>\n",
       "    <tr>\n",
       "      <th>6868</th>\n",
       "      <td>footnoteSeqID</td>\n",
       "      <td>Footnote</td>\n",
       "      <td>NaN</td>\n",
       "      <td>NaN</td>\n",
       "    </tr>\n",
       "    <tr>\n",
       "      <th>6869</th>\n",
       "      <td>2</td>\n",
       "      <td>Excludes South Sudan after July 9, 2011.</td>\n",
       "      <td>NaN</td>\n",
       "      <td>NaN</td>\n",
       "    </tr>\n",
       "  </tbody>\n",
       "</table>\n",
       "</div>"
      ],
      "text/plain": [
       "            Country                                      Year  GDP_Per_Capita  \\\n",
       "6865       Zimbabwe                                      1992     3054.889178   \n",
       "6866       Zimbabwe                                      1991     3426.598094   \n",
       "6867       Zimbabwe                                      1990     3324.348171   \n",
       "6868  footnoteSeqID                                  Footnote             NaN   \n",
       "6869              2  Excludes South Sudan after July 9, 2011.             NaN   \n",
       "\n",
       "      Internet_Users_Pct  \n",
       "6865                 NaN  \n",
       "6866                 NaN  \n",
       "6867                 0.0  \n",
       "6868                 NaN  \n",
       "6869                 NaN  "
      ]
     },
     "execution_count": 46,
     "metadata": {},
     "output_type": "execute_result"
    }
   ],
   "source": [
    "gdp_and_internet_use.tail()"
   ]
  },
  {
   "cell_type": "markdown",
   "id": "c4d8ab9c",
   "metadata": {},
   "source": [
    "16. Subset the combined DataFrame to keep only the data for 2004, 2009, and 2014. Check that this happened correctly."
   ]
  },
  {
   "cell_type": "code",
   "execution_count": 47,
   "id": "c5b826e3",
   "metadata": {},
   "outputs": [
    {
     "data": {
      "text/html": [
       "<div>\n",
       "<style scoped>\n",
       "    .dataframe tbody tr th:only-of-type {\n",
       "        vertical-align: middle;\n",
       "    }\n",
       "\n",
       "    .dataframe tbody tr th {\n",
       "        vertical-align: top;\n",
       "    }\n",
       "\n",
       "    .dataframe thead th {\n",
       "        text-align: right;\n",
       "    }\n",
       "</style>\n",
       "<table border=\"1\" class=\"dataframe\">\n",
       "  <thead>\n",
       "    <tr style=\"text-align: right;\">\n",
       "      <th></th>\n",
       "      <th>Country</th>\n",
       "      <th>Year</th>\n",
       "      <th>GDP_Per_Capita</th>\n",
       "      <th>Internet_Users_Pct</th>\n",
       "    </tr>\n",
       "  </thead>\n",
       "  <tbody>\n",
       "    <tr>\n",
       "      <th>5</th>\n",
       "      <td>Afghanistan</td>\n",
       "      <td>2014</td>\n",
       "      <td>2102.385234</td>\n",
       "      <td>6.390000</td>\n",
       "    </tr>\n",
       "    <tr>\n",
       "      <th>10</th>\n",
       "      <td>Afghanistan</td>\n",
       "      <td>2009</td>\n",
       "      <td>1758.904043</td>\n",
       "      <td>3.550000</td>\n",
       "    </tr>\n",
       "    <tr>\n",
       "      <th>15</th>\n",
       "      <td>Afghanistan</td>\n",
       "      <td>2004</td>\n",
       "      <td>1200.278256</td>\n",
       "      <td>0.105809</td>\n",
       "    </tr>\n",
       "    <tr>\n",
       "      <th>23</th>\n",
       "      <td>Albania</td>\n",
       "      <td>2014</td>\n",
       "      <td>11623.866679</td>\n",
       "      <td>60.100000</td>\n",
       "    </tr>\n",
       "    <tr>\n",
       "      <th>28</th>\n",
       "      <td>Albania</td>\n",
       "      <td>2009</td>\n",
       "      <td>10346.864199</td>\n",
       "      <td>41.200000</td>\n",
       "    </tr>\n",
       "    <tr>\n",
       "      <th>...</th>\n",
       "      <td>...</td>\n",
       "      <td>...</td>\n",
       "      <td>...</td>\n",
       "      <td>...</td>\n",
       "    </tr>\n",
       "    <tr>\n",
       "      <th>6818</th>\n",
       "      <td>Zambia</td>\n",
       "      <td>2009</td>\n",
       "      <td>2917.516220</td>\n",
       "      <td>6.310000</td>\n",
       "    </tr>\n",
       "    <tr>\n",
       "      <th>6823</th>\n",
       "      <td>Zambia</td>\n",
       "      <td>2004</td>\n",
       "      <td>2261.766537</td>\n",
       "      <td>2.013550</td>\n",
       "    </tr>\n",
       "    <tr>\n",
       "      <th>6843</th>\n",
       "      <td>Zimbabwe</td>\n",
       "      <td>2014</td>\n",
       "      <td>2955.240287</td>\n",
       "      <td>19.890000</td>\n",
       "    </tr>\n",
       "    <tr>\n",
       "      <th>6848</th>\n",
       "      <td>Zimbabwe</td>\n",
       "      <td>2009</td>\n",
       "      <td>1925.364381</td>\n",
       "      <td>11.360000</td>\n",
       "    </tr>\n",
       "    <tr>\n",
       "      <th>6853</th>\n",
       "      <td>Zimbabwe</td>\n",
       "      <td>2004</td>\n",
       "      <td>2480.859342</td>\n",
       "      <td>6.564045</td>\n",
       "    </tr>\n",
       "  </tbody>\n",
       "</table>\n",
       "<p>708 rows × 4 columns</p>\n",
       "</div>"
      ],
      "text/plain": [
       "          Country  Year  GDP_Per_Capita  Internet_Users_Pct\n",
       "5     Afghanistan  2014     2102.385234            6.390000\n",
       "10    Afghanistan  2009     1758.904043            3.550000\n",
       "15    Afghanistan  2004     1200.278256            0.105809\n",
       "23        Albania  2014    11623.866679           60.100000\n",
       "28        Albania  2009    10346.864199           41.200000\n",
       "...           ...   ...             ...                 ...\n",
       "6818       Zambia  2009     2917.516220            6.310000\n",
       "6823       Zambia  2004     2261.766537            2.013550\n",
       "6843     Zimbabwe  2014     2955.240287           19.890000\n",
       "6848     Zimbabwe  2009     1925.364381           11.360000\n",
       "6853     Zimbabwe  2004     2480.859342            6.564045\n",
       "\n",
       "[708 rows x 4 columns]"
      ]
     },
     "execution_count": 47,
     "metadata": {},
     "output_type": "execute_result"
    }
   ],
   "source": [
    "filter_list = ['2004', '2009', '2014']\n",
    "gdp_and_internet_use[gdp_and_internet_use.Year.isin(filter_list)]"
   ]
  },
  {
   "cell_type": "markdown",
   "id": "0c8ef527",
   "metadata": {},
   "source": [
    "17. Create three new DataFrames, one for 2004, one for 2009, and one for 2014. Give them meaningful names that aren't too long."
   ]
  },
  {
   "cell_type": "code",
   "execution_count": 48,
   "id": "8917cffe",
   "metadata": {},
   "outputs": [
    {
     "name": "stdout",
     "output_type": "stream",
     "text": [
      "                  Country  Year  GDP_Per_Capita  Internet_Users_Pct\n",
      "15            Afghanistan  2004     1200.278256            0.105809\n",
      "33                Albania  2004     7604.838002            2.420388\n",
      "63                Algeria  2004    10058.435939            4.634475\n",
      "93                 Angola  2004     5593.241537            0.464815\n",
      "123   Antigua and Barbuda  2004    18745.681534           24.266544\n",
      "...                   ...   ...             ...                 ...\n",
      "6737              Vietnam  2004     3689.732423                 NaN\n",
      "6767   West Bank and Gaza  2004     4485.525458                 NaN\n",
      "6793                World  2004    12077.823821                 NaN\n",
      "6823               Zambia  2004     2261.766537            2.013550\n",
      "6853             Zimbabwe  2004     2480.859342            6.564045\n",
      "\n",
      "[234 rows x 4 columns]\n",
      "                  Country  Year  GDP_Per_Capita  Internet_Users_Pct\n",
      "10            Afghanistan  2009     1758.904043                3.55\n",
      "28                Albania  2009    10346.864199               41.20\n",
      "58                Algeria  2009    10782.361398               11.23\n",
      "88                 Angola  2009     7643.493749                6.00\n",
      "118   Antigua and Barbuda  2009    20046.839017               42.00\n",
      "...                   ...   ...             ...                 ...\n",
      "6732              Vietnam  2009     4830.304958                 NaN\n",
      "6762   West Bank and Gaza  2009     5250.116075                 NaN\n",
      "6788                World  2009    13396.524163                 NaN\n",
      "6818               Zambia  2009     2917.516220                6.31\n",
      "6848             Zimbabwe  2009     1925.364381               11.36\n",
      "\n",
      "[236 rows x 4 columns]\n",
      "                  Country  Year  GDP_Per_Capita  Internet_Users_Pct\n",
      "5             Afghanistan  2014     2102.385234                6.39\n",
      "23                Albania  2014    11623.866679               60.10\n",
      "53                Algeria  2014    11512.705405               18.09\n",
      "83                 Angola  2014     8239.828837               21.26\n",
      "113   Antigua and Barbuda  2014    18104.241470               64.00\n",
      "...                   ...   ...             ...                 ...\n",
      "6727              Vietnam  2014     6098.489609                 NaN\n",
      "6757   West Bank and Gaza  2014     5967.073437                 NaN\n",
      "6783                World  2014    15189.648507                 NaN\n",
      "6813               Zambia  2014     3450.046561               17.34\n",
      "6843             Zimbabwe  2014     2955.240287               19.89\n",
      "\n",
      "[238 rows x 4 columns]\n"
     ]
    }
   ],
   "source": [
    "f04= ['2004']\n",
    "f09= ['2009']\n",
    "f14= ['2014']\n",
    "gdpi_04 = gdp_and_internet_use[gdp_and_internet_use.Year.isin(f04)]\n",
    "gdpi_09 = gdp_and_internet_use[gdp_and_internet_use.Year.isin(f09)]\n",
    "gdpi_14 = gdp_and_internet_use[gdp_and_internet_use.Year.isin(f14)]\n",
    "print(gdpi_04)\n",
    "print(gdpi_09)\n",
    "print(gdpi_14)"
   ]
  },
  {
   "cell_type": "code",
   "execution_count": 6,
   "id": "c15df230",
   "metadata": {},
   "outputs": [],
   "source": [
    "# Let's retry that one, make it cleaner.\n",
    "# if gdp_and_internet_use.Year == 2004:\n",
    "#     print(gdp_and_internet_use as gdpi_04)\n",
    "# elif gdp_and_internet_use.Year == 2009:\n",
    "#     print(gdp_and_internet_use as gdpi_09)\n",
    "# elif gdp_and_internet_use.Year == 2014:\n",
    "#     print(gdp_and_internet_use as gdpi_14)\n",
    "# else:\n",
    "#     end --Clearly that was nonsense and did not work. We will come back to this.\n",
    "\n"
   ]
  },
  {
   "cell_type": "markdown",
   "id": "45a5ee36",
   "metadata": {},
   "source": [
    "18. Which country had the highest percentage of internet users in 2014? What was the percentage? (Try typing the first 3 letters of your DataFrame name and hitting the tab key for auto-complete options)."
   ]
  },
  {
   "cell_type": "code",
   "execution_count": 53,
   "id": "32ff44ff",
   "metadata": {},
   "outputs": [
    {
     "data": {
      "text/html": [
       "<div>\n",
       "<style scoped>\n",
       "    .dataframe tbody tr th:only-of-type {\n",
       "        vertical-align: middle;\n",
       "    }\n",
       "\n",
       "    .dataframe tbody tr th {\n",
       "        vertical-align: top;\n",
       "    }\n",
       "\n",
       "    .dataframe thead th {\n",
       "        text-align: right;\n",
       "    }\n",
       "</style>\n",
       "<table border=\"1\" class=\"dataframe\">\n",
       "  <thead>\n",
       "    <tr style=\"text-align: right;\">\n",
       "      <th></th>\n",
       "      <th>Country</th>\n",
       "      <th>Year</th>\n",
       "      <th>GDP_Per_Capita</th>\n",
       "      <th>Internet_Users_Pct</th>\n",
       "    </tr>\n",
       "  </thead>\n",
       "  <tbody>\n",
       "    <tr>\n",
       "      <th>2625</th>\n",
       "      <td>Iceland</td>\n",
       "      <td>2014</td>\n",
       "      <td>49652.149500</td>\n",
       "      <td>98.16</td>\n",
       "    </tr>\n",
       "    <tr>\n",
       "      <th>561</th>\n",
       "      <td>Bermuda</td>\n",
       "      <td>2014</td>\n",
       "      <td>77361.104881</td>\n",
       "      <td>96.80</td>\n",
       "    </tr>\n",
       "    <tr>\n",
       "      <th>4648</th>\n",
       "      <td>Norway</td>\n",
       "      <td>2014</td>\n",
       "      <td>62589.373548</td>\n",
       "      <td>96.30</td>\n",
       "    </tr>\n",
       "    <tr>\n",
       "      <th>1452</th>\n",
       "      <td>Denmark</td>\n",
       "      <td>2014</td>\n",
       "      <td>52214.537753</td>\n",
       "      <td>95.99</td>\n",
       "    </tr>\n",
       "    <tr>\n",
       "      <th>3691</th>\n",
       "      <td>Luxembourg</td>\n",
       "      <td>2014</td>\n",
       "      <td>108760.916030</td>\n",
       "      <td>94.67</td>\n",
       "    </tr>\n",
       "    <tr>\n",
       "      <th>...</th>\n",
       "      <td>...</td>\n",
       "      <td>...</td>\n",
       "      <td>...</td>\n",
       "      <td>...</td>\n",
       "    </tr>\n",
       "    <tr>\n",
       "      <th>6427</th>\n",
       "      <td>Tuvalu</td>\n",
       "      <td>2014</td>\n",
       "      <td>3450.793169</td>\n",
       "      <td>NaN</td>\n",
       "    </tr>\n",
       "    <tr>\n",
       "      <th>6607</th>\n",
       "      <td>Upper middle income</td>\n",
       "      <td>2014</td>\n",
       "      <td>14275.343977</td>\n",
       "      <td>NaN</td>\n",
       "    </tr>\n",
       "    <tr>\n",
       "      <th>6727</th>\n",
       "      <td>Vietnam</td>\n",
       "      <td>2014</td>\n",
       "      <td>6098.489609</td>\n",
       "      <td>NaN</td>\n",
       "    </tr>\n",
       "    <tr>\n",
       "      <th>6757</th>\n",
       "      <td>West Bank and Gaza</td>\n",
       "      <td>2014</td>\n",
       "      <td>5967.073437</td>\n",
       "      <td>NaN</td>\n",
       "    </tr>\n",
       "    <tr>\n",
       "      <th>6783</th>\n",
       "      <td>World</td>\n",
       "      <td>2014</td>\n",
       "      <td>15189.648507</td>\n",
       "      <td>NaN</td>\n",
       "    </tr>\n",
       "  </tbody>\n",
       "</table>\n",
       "<p>238 rows × 4 columns</p>\n",
       "</div>"
      ],
      "text/plain": [
       "                  Country  Year  GDP_Per_Capita  Internet_Users_Pct\n",
       "2625              Iceland  2014    49652.149500               98.16\n",
       "561               Bermuda  2014    77361.104881               96.80\n",
       "4648               Norway  2014    62589.373548               96.30\n",
       "1452              Denmark  2014    52214.537753               95.99\n",
       "3691           Luxembourg  2014   108760.916030               94.67\n",
       "...                   ...   ...             ...                 ...\n",
       "6427               Tuvalu  2014     3450.793169                 NaN\n",
       "6607  Upper middle income  2014    14275.343977                 NaN\n",
       "6727              Vietnam  2014     6098.489609                 NaN\n",
       "6757   West Bank and Gaza  2014     5967.073437                 NaN\n",
       "6783                World  2014    15189.648507                 NaN\n",
       "\n",
       "[238 rows x 4 columns]"
      ]
     },
     "execution_count": 53,
     "metadata": {},
     "output_type": "execute_result"
    }
   ],
   "source": [
    "gdpi_14.sort_values(by= 'Internet_Users_Pct', ascending=False)\n",
    "# Way to go Iceland! 98.16% is not too shabby."
   ]
  },
  {
   "cell_type": "markdown",
   "id": "7501871e",
   "metadata": {},
   "source": [
    "19. Which country had the lowest percentage of internet users in 2014? What was the percentage?"
   ]
  },
  {
   "cell_type": "code",
   "execution_count": 54,
   "id": "8e25107b",
   "metadata": {},
   "outputs": [
    {
     "data": {
      "text/html": [
       "<div>\n",
       "<style scoped>\n",
       "    .dataframe tbody tr th:only-of-type {\n",
       "        vertical-align: middle;\n",
       "    }\n",
       "\n",
       "    .dataframe tbody tr th {\n",
       "        vertical-align: top;\n",
       "    }\n",
       "\n",
       "    .dataframe thead th {\n",
       "        text-align: right;\n",
       "    }\n",
       "</style>\n",
       "<table border=\"1\" class=\"dataframe\">\n",
       "  <thead>\n",
       "    <tr style=\"text-align: right;\">\n",
       "      <th></th>\n",
       "      <th>Country</th>\n",
       "      <th>Year</th>\n",
       "      <th>GDP_Per_Capita</th>\n",
       "      <th>Internet_Users_Pct</th>\n",
       "    </tr>\n",
       "  </thead>\n",
       "  <tbody>\n",
       "    <tr>\n",
       "      <th>6219</th>\n",
       "      <td>Timor-Leste</td>\n",
       "      <td>2014</td>\n",
       "      <td>3264.568070</td>\n",
       "      <td>1.14</td>\n",
       "    </tr>\n",
       "    <tr>\n",
       "      <th>827</th>\n",
       "      <td>Burundi</td>\n",
       "      <td>2014</td>\n",
       "      <td>886.235777</td>\n",
       "      <td>1.38</td>\n",
       "    </tr>\n",
       "    <tr>\n",
       "      <th>2326</th>\n",
       "      <td>Guinea</td>\n",
       "      <td>2014</td>\n",
       "      <td>2061.760973</td>\n",
       "      <td>1.72</td>\n",
       "    </tr>\n",
       "    <tr>\n",
       "      <th>4528</th>\n",
       "      <td>Niger</td>\n",
       "      <td>2014</td>\n",
       "      <td>1127.615541</td>\n",
       "      <td>1.95</td>\n",
       "    </tr>\n",
       "    <tr>\n",
       "      <th>5434</th>\n",
       "      <td>Sierra Leone</td>\n",
       "      <td>2014</td>\n",
       "      <td>1997.511853</td>\n",
       "      <td>2.10</td>\n",
       "    </tr>\n",
       "    <tr>\n",
       "      <th>...</th>\n",
       "      <td>...</td>\n",
       "      <td>...</td>\n",
       "      <td>...</td>\n",
       "      <td>...</td>\n",
       "    </tr>\n",
       "    <tr>\n",
       "      <th>6427</th>\n",
       "      <td>Tuvalu</td>\n",
       "      <td>2014</td>\n",
       "      <td>3450.793169</td>\n",
       "      <td>NaN</td>\n",
       "    </tr>\n",
       "    <tr>\n",
       "      <th>6607</th>\n",
       "      <td>Upper middle income</td>\n",
       "      <td>2014</td>\n",
       "      <td>14275.343977</td>\n",
       "      <td>NaN</td>\n",
       "    </tr>\n",
       "    <tr>\n",
       "      <th>6727</th>\n",
       "      <td>Vietnam</td>\n",
       "      <td>2014</td>\n",
       "      <td>6098.489609</td>\n",
       "      <td>NaN</td>\n",
       "    </tr>\n",
       "    <tr>\n",
       "      <th>6757</th>\n",
       "      <td>West Bank and Gaza</td>\n",
       "      <td>2014</td>\n",
       "      <td>5967.073437</td>\n",
       "      <td>NaN</td>\n",
       "    </tr>\n",
       "    <tr>\n",
       "      <th>6783</th>\n",
       "      <td>World</td>\n",
       "      <td>2014</td>\n",
       "      <td>15189.648507</td>\n",
       "      <td>NaN</td>\n",
       "    </tr>\n",
       "  </tbody>\n",
       "</table>\n",
       "<p>238 rows × 4 columns</p>\n",
       "</div>"
      ],
      "text/plain": [
       "                  Country  Year  GDP_Per_Capita  Internet_Users_Pct\n",
       "6219          Timor-Leste  2014     3264.568070                1.14\n",
       "827               Burundi  2014      886.235777                1.38\n",
       "2326               Guinea  2014     2061.760973                1.72\n",
       "4528                Niger  2014     1127.615541                1.95\n",
       "5434         Sierra Leone  2014     1997.511853                2.10\n",
       "...                   ...   ...             ...                 ...\n",
       "6427               Tuvalu  2014     3450.793169                 NaN\n",
       "6607  Upper middle income  2014    14275.343977                 NaN\n",
       "6727              Vietnam  2014     6098.489609                 NaN\n",
       "6757   West Bank and Gaza  2014     5967.073437                 NaN\n",
       "6783                World  2014    15189.648507                 NaN\n",
       "\n",
       "[238 rows x 4 columns]"
      ]
     },
     "execution_count": 54,
     "metadata": {},
     "output_type": "execute_result"
    }
   ],
   "source": [
    "#This question seems easy enough, just flip the previous code to be ascending= true\n",
    "gdpi_14.sort_values(by= 'Internet_Users_Pct', ascending=True)\n",
    "#And we get Timor-Leste with 1.14%. It looks like a small half-island country just above Australia"
   ]
  },
  {
   "cell_type": "markdown",
   "id": "e1b61f39",
   "metadata": {},
   "source": [
    "20. Repeat for 2004 and 2009"
   ]
  },
  {
   "cell_type": "code",
   "execution_count": 66,
   "id": "ab14656c",
   "metadata": {},
   "outputs": [
    {
     "name": "stdout",
     "output_type": "stream",
     "text": [
      "      Country  Year  GDP_Per_Capita  Internet_Users_Pct\n",
      "6019   Sweden  2004    44496.023401               83.89\n",
      "2635  Iceland  2004    45145.545658               83.88\n",
      "      Country  Year  GDP_Per_Capita  Internet_Users_Pct\n",
      "2630  Iceland  2009    48177.084123               93.00\n",
      "4653   Norway  2009    61886.564498               92.08\n",
      "      Country  Year  GDP_Per_Capita  Internet_Users_Pct\n",
      "4342  Myanmar  2004     1696.881760            0.024337\n",
      "3545  Liberia  2004     1181.546158            0.031011\n",
      "          Country  Year  GDP_Per_Capita  Internet_Users_Pct\n",
      "6224  Timor-Leste  2009     2724.770973            0.185252\n",
      "4337      Myanmar  2009     2874.780227            0.220000\n"
     ]
    }
   ],
   "source": [
    "int_high04 = gdpi_04.sort_values(by= 'Internet_Users_Pct', ascending=False)\n",
    "int_high09 = gdpi_09.sort_values(by= 'Internet_Users_Pct', ascending=False)\n",
    "print(int_high04.head(2)) \n",
    "print(int_high09.head(2))\n",
    "# I initially tried just df.tail but was getting NaN returns. We can't combine .dropna & .tail, so let's prefunction it.\n",
    "# int_high04.dropna()\n",
    "# int_high09.dropna()\n",
    "# print(int_high04.tail(2)) \n",
    "\n",
    "# print(int_high09.tail(2)) --Not working so far, still getting NaNs so let's go the long way.\n",
    "int_low04 = gdpi_04.sort_values(by= 'Internet_Users_Pct', ascending=True)\n",
    "int_low09 = gdpi_09.sort_values(by= 'Internet_Users_Pct', ascending=True)\n",
    "\n",
    "print(int_low04.head(2))\n",
    "print(int_low09.head(2))"
   ]
  },
  {
   "cell_type": "code",
   "execution_count": 67,
   "id": "7bc87133",
   "metadata": {},
   "outputs": [],
   "source": [
    "#That's a hodgepodge of dirty code, so here's what we found out: In 2004 Sweden was the highest by .01% with a total of 83.89%\n",
    "#Myanmar was the lowest in 2004 with 0.024%\n",
    "# In 2009 Iceland pulled ahead with an even 93% but Myanmar climbed out of last place, leaving Timor-Leste with 0.185%"
   ]
  },
  {
   "cell_type": "markdown",
   "id": "73e7e8f5",
   "metadata": {},
   "source": [
    "21. Which country had the highest gdp per capita in 2014? What was the gdp per capita?"
   ]
  },
  {
   "cell_type": "code",
   "execution_count": 71,
   "id": "e79efb19",
   "metadata": {},
   "outputs": [
    {
     "name": "stdout",
     "output_type": "stream",
     "text": [
      "                   Country  Year  GDP_Per_Capita  Internet_Users_Pct\n",
      "3701            Luxembourg  2004   102708.212547           65.880000\n",
      "6527  United Arab Emirates  2004    97758.023345           30.131296\n",
      "5148                 Qatar  2004    93748.301216           20.701648\n",
      "571                Bermuda  2004    90195.811033           60.990867\n",
      "5306            San Marino  2004    80391.828516           50.566343\n",
      "...                    ...   ...             ...                 ...\n",
      "837                Burundi  2004      817.460585            0.349060\n",
      "1856              Ethiopia  2004      793.093786            0.155335\n",
      "4312            Mozambique  2004      792.727155            0.679448\n",
      "3791                Malawi  2004      775.346132            0.347505\n",
      "1432       Dem. Rep. Congo  2004      757.685942                 NaN\n",
      "\n",
      "[234 rows x 4 columns]\n"
     ]
    }
   ],
   "source": [
    "hi_cap14 = gdpi_04.sort_values(by= 'GDP_Per_Capita', ascending=False)\n",
    "print(hi_cap14)\n",
    "#Luxembourg, you little rascal. How'd you get 102708.212"
   ]
  },
  {
   "cell_type": "markdown",
   "id": "28226600",
   "metadata": {},
   "source": [
    "22. Which country had the lowest gdp per capita in 2014? What was the gdp per capita?"
   ]
  },
  {
   "cell_type": "code",
   "execution_count": 72,
   "id": "561f47fa",
   "metadata": {},
   "outputs": [
    {
     "name": "stdout",
     "output_type": "stream",
     "text": [
      "<bound method NDFrame.tail of                    Country  Year  GDP_Per_Capita  Internet_Users_Pct\n",
      "3701            Luxembourg  2004   102708.212547           65.880000\n",
      "6527  United Arab Emirates  2004    97758.023345           30.131296\n",
      "5148                 Qatar  2004    93748.301216           20.701648\n",
      "571                Bermuda  2004    90195.811033           60.990867\n",
      "5306            San Marino  2004    80391.828516           50.566343\n",
      "...                    ...   ...             ...                 ...\n",
      "837                Burundi  2004      817.460585            0.349060\n",
      "1856              Ethiopia  2004      793.093786            0.155335\n",
      "4312            Mozambique  2004      792.727155            0.679448\n",
      "3791                Malawi  2004      775.346132            0.347505\n",
      "1432       Dem. Rep. Congo  2004      757.685942                 NaN\n",
      "\n",
      "[234 rows x 4 columns]>\n"
     ]
    }
   ],
   "source": [
    "print(hi_cap14.tail)\n",
    "#Malawi has the lowest GDP per capita with .3475%"
   ]
  },
  {
   "cell_type": "markdown",
   "id": "94bf4e8b",
   "metadata": {},
   "source": [
    "23. Create some scatterplots:\n",
    "a. 2004 Percent Using the Internet vs GDP Per Capita\n",
    "b. 2009 Percent Using the Internet vs GDP Per Capita\n",
    "c. 2014 Percent Using the Internet vs GDP Per Capita"
   ]
  },
  {
   "cell_type": "code",
   "execution_count": null,
   "id": "0f1cd7a8",
   "metadata": {},
   "outputs": [],
   "source": []
  }
 ],
 "metadata": {
  "kernelspec": {
   "display_name": "Python 3 (ipykernel)",
   "language": "python",
   "name": "python3"
  },
  "language_info": {
   "codemirror_mode": {
    "name": "ipython",
    "version": 3
   },
   "file_extension": ".py",
   "mimetype": "text/x-python",
   "name": "python",
   "nbconvert_exporter": "python",
   "pygments_lexer": "ipython3",
   "version": "3.9.7"
  }
 },
 "nbformat": 4,
 "nbformat_minor": 5
}
