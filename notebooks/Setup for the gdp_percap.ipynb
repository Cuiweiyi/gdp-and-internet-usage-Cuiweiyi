{
 "cells": [
  {
   "cell_type": "code",
   "execution_count": 1,
   "id": "57e904c0",
   "metadata": {},
   "outputs": [],
   "source": [
    "import pandas as pd\n",
    "import numpy as np\n",
    "import matplotlib.pyplot as plt\n",
    "import seaborn as sns"
   ]
  },
  {
   "cell_type": "code",
   "execution_count": 2,
   "id": "b8a734a7",
   "metadata": {},
   "outputs": [],
   "source": [
    "%matplotlib inline"
   ]
  },
  {
   "cell_type": "code",
   "execution_count": 3,
   "id": "992a339e",
   "metadata": {},
   "outputs": [],
   "source": [
    "gdp_df = pd.read_csv(\"../data/gdp_percapita.csv.csv\")"
   ]
  },
  {
   "cell_type": "code",
   "execution_count": 4,
   "id": "3f865e38",
   "metadata": {
    "scrolled": true
   },
   "outputs": [],
   "source": [
    "internet_df = pd.read_csv(\"../data/internet_use.csv.csv\", nrows = 4494)"
   ]
  },
  {
   "cell_type": "markdown",
   "id": "4452b2d6",
   "metadata": {},
   "source": [
    "7. Look at the shape of each DataFrame - how many rows? How many columns"
   ]
  },
  {
   "cell_type": "code",
   "execution_count": 5,
   "id": "daa59fc5",
   "metadata": {},
   "outputs": [
    {
     "name": "stdout",
     "output_type": "stream",
     "text": [
      "info for gdp\n",
      "6870\n",
      "(6870, 4)\n",
      "info for internet\n",
      "4494\n",
      "(4494, 4)\n"
     ]
    }
   ],
   "source": [
    "row_count = len(gdp_df)\n",
    "column_count = gdp_df.shape\n",
    "row_row = len(internet_df)\n",
    "col_umn = internet_df.shape\n",
    "print(\"info for gdp\")\n",
    "print( row_count)\n",
    "print(column_count)\n",
    "print(\"info for internet\")\n",
    "print(row_row)\n",
    "print(col_umn)"
   ]
  },
  {
   "cell_type": "markdown",
   "id": "f38c87b0",
   "metadata": {},
   "source": [
    "8. Take a look at the datatypes for the columns in each DataFrame."
   ]
  },
  {
   "cell_type": "code",
   "execution_count": null,
   "id": "4cb2770c",
   "metadata": {},
   "outputs": [],
   "source": []
  },
  {
   "cell_type": "code",
   "execution_count": 15,
   "id": "f6596ec3",
   "metadata": {},
   "outputs": [
    {
     "name": "stderr",
     "output_type": "stream",
     "text": [
      "C:\\Users\\pcunn\\AppData\\Local\\Temp/ipykernel_18684/645253499.py:5: FutureWarning: In a future version of pandas all arguments of concat except for the argument 'objs' will be keyword-only\n",
      "  gdp_and_internet_use = pd.concat(gdp_df, internet_df,  on = ['Country_or_Area', 'Year'])\n"
     ]
    },
    {
     "ename": "TypeError",
     "evalue": "concat() got an unexpected keyword argument 'on'",
     "output_type": "error",
     "traceback": [
      "\u001b[1;31m---------------------------------------------------------------------------\u001b[0m",
      "\u001b[1;31mTypeError\u001b[0m                                 Traceback (most recent call last)",
      "\u001b[1;32m~\\AppData\\Local\\Temp/ipykernel_18684/645253499.py\u001b[0m in \u001b[0;36m<module>\u001b[1;34m\u001b[0m\n\u001b[0;32m      3\u001b[0m \u001b[1;31m#print(internet_df.head(1))\u001b[0m\u001b[1;33m\u001b[0m\u001b[1;33m\u001b[0m\u001b[0m\n\u001b[0;32m      4\u001b[0m \u001b[1;31m#then use a hashtag to comment out the print() and type the columns\u001b[0m\u001b[1;33m\u001b[0m\u001b[1;33m\u001b[0m\u001b[0m\n\u001b[1;32m----> 5\u001b[1;33m \u001b[0mgdp_and_internet_use\u001b[0m \u001b[1;33m=\u001b[0m \u001b[0mpd\u001b[0m\u001b[1;33m.\u001b[0m\u001b[0mconcat\u001b[0m\u001b[1;33m(\u001b[0m\u001b[0mgdp_df\u001b[0m\u001b[1;33m,\u001b[0m \u001b[0minternet_df\u001b[0m\u001b[1;33m,\u001b[0m  \u001b[0mon\u001b[0m \u001b[1;33m=\u001b[0m \u001b[1;33m[\u001b[0m\u001b[1;34m'Country_or_Area'\u001b[0m\u001b[1;33m,\u001b[0m \u001b[1;34m'Year'\u001b[0m\u001b[1;33m]\u001b[0m\u001b[1;33m)\u001b[0m\u001b[1;33m\u001b[0m\u001b[1;33m\u001b[0m\u001b[0m\n\u001b[0m\u001b[0;32m      6\u001b[0m \u001b[1;33m\u001b[0m\u001b[0m\n\u001b[0;32m      7\u001b[0m \u001b[0mgdp_and_internet_use\u001b[0m\u001b[1;33m.\u001b[0m\u001b[0mhead\u001b[0m\u001b[1;33m(\u001b[0m\u001b[1;33m)\u001b[0m\u001b[1;33m\u001b[0m\u001b[1;33m\u001b[0m\u001b[0m\n",
      "\u001b[1;32m~\\anaconda3\\lib\\site-packages\\pandas\\util\\_decorators.py\u001b[0m in \u001b[0;36mwrapper\u001b[1;34m(*args, **kwargs)\u001b[0m\n\u001b[0;32m    309\u001b[0m                     \u001b[0mstacklevel\u001b[0m\u001b[1;33m=\u001b[0m\u001b[0mstacklevel\u001b[0m\u001b[1;33m,\u001b[0m\u001b[1;33m\u001b[0m\u001b[1;33m\u001b[0m\u001b[0m\n\u001b[0;32m    310\u001b[0m                 )\n\u001b[1;32m--> 311\u001b[1;33m             \u001b[1;32mreturn\u001b[0m \u001b[0mfunc\u001b[0m\u001b[1;33m(\u001b[0m\u001b[1;33m*\u001b[0m\u001b[0margs\u001b[0m\u001b[1;33m,\u001b[0m \u001b[1;33m**\u001b[0m\u001b[0mkwargs\u001b[0m\u001b[1;33m)\u001b[0m\u001b[1;33m\u001b[0m\u001b[1;33m\u001b[0m\u001b[0m\n\u001b[0m\u001b[0;32m    312\u001b[0m \u001b[1;33m\u001b[0m\u001b[0m\n\u001b[0;32m    313\u001b[0m         \u001b[1;32mreturn\u001b[0m \u001b[0mwrapper\u001b[0m\u001b[1;33m\u001b[0m\u001b[1;33m\u001b[0m\u001b[0m\n",
      "\u001b[1;31mTypeError\u001b[0m: concat() got an unexpected keyword argument 'on'"
     ]
    }
   ],
   "source": [
    "#first run a test to see what the columns are actually called. \n",
    "#print(gdp_df.head(1))\n",
    "#print(internet_df.head(1))\n",
    "#then use a hashtag to comment out the print() and type the columns\n",
    "gdp_and_internet_use = pd.concat(gdp_df, internet_df,  on = ['Country_or_Area', 'Year'])\n",
    "\n",
    "gdp_and_internet_use.head()\n",
    "type(gdp_df.Country_or_Area)\n",
    "type(gdp_df.Year)\n",
    "type(gdp_df.GDP_Per_Capita)\n",
    "\n",
    "type(internet_df.Country_or_Area)\n",
    "type(internet_df.Year)\n",
    "type(internet_df.Internet_Users_Pct)"
   ]
  },
  {
   "cell_type": "markdown",
   "id": "04f036d4",
   "metadata": {},
   "source": [
    "9. Take a look at the last 10 rows of each DataFrame in turn."
   ]
  },
  {
   "cell_type": "code",
   "execution_count": null,
   "id": "97b39238",
   "metadata": {},
   "outputs": [],
   "source": [
    "gdp_df.tail(10) #start at the head or start at the tail?\n",
    "internet_df.tail(10)"
   ]
  },
  {
   "cell_type": "markdown",
   "id": "f82560db",
   "metadata": {},
   "source": [
    "10. Drop the value footnotes column from both DataFrames. Check that this worked as expected."
   ]
  },
  {
   "cell_type": "code",
   "execution_count": null,
   "id": "9f6db74e",
   "metadata": {},
   "outputs": [],
   "source": [
    "del gdp_df['Value_Footnotes']\n",
    "gdp_df.head(10)\n",
    "#had a bit of difficulty with this one as I initially attempted gdp_df.pop() and gdp_df.drop(['Value_Footnotes'])\n",
    "del internet_df['Value_Footnotes']\n",
    "internet_df.head(3)\n",
    "#it's easier to comment out one group rathe than run two"
   ]
  },
  {
   "cell_type": "markdown",
   "id": "bd7556bc",
   "metadata": {},
   "source": [
    "11. Change the columns for the GDP Per Capita DataFrame to ‘Country’, ‘Year’, and ‘GDP_Per_Capita’."
   ]
  },
  {
   "cell_type": "code",
   "execution_count": null,
   "id": "b8d702d2",
   "metadata": {},
   "outputs": [],
   "source": [
    "gdp_df.columns = ['Country', 'Year', 'GDP_Per_Capita']\n",
    "print(gdp_df)"
   ]
  },
  {
   "cell_type": "markdown",
   "id": "a710d2cc",
   "metadata": {},
   "source": [
    "12. Change the columns for the Internet Users DataFrame to ‘Country’, ‘Year’, and ‘Internet_Users_Pct’."
   ]
  },
  {
   "cell_type": "code",
   "execution_count": null,
   "id": "1cd6767b",
   "metadata": {},
   "outputs": [],
   "source": [
    "internet_df.columns = ['Country', 'Year', 'Internet_Users_Pct']\n",
    "print(internet_df)"
   ]
  },
  {
   "cell_type": "markdown",
   "id": "7c5b7cbc",
   "metadata": {},
   "source": [
    "13. Merge the two DataFrames to one. Merge all rows from each of the two DataFrames. Call the new DataFrame gdp_and_internet_use."
   ]
  },
  {
   "cell_type": "code",
   "execution_count": null,
   "id": "809ac9e3",
   "metadata": {},
   "outputs": [],
   "source": [
    "shells = [gdp_df, internet_df]\n",
    "gdp_and_internet_use = pd.concat(shells, keys = ['Country', 'Year'])\n",
    "\n",
    "gdp_and_internet_use.head()"
   ]
  },
  {
   "cell_type": "markdown",
   "id": "742d93e7",
   "metadata": {},
   "source": [
    "14. Look at the first five rows of your new DataFrame to confirm it merged correctly"
   ]
  },
  {
   "cell_type": "code",
   "execution_count": null,
   "id": "2ea69445",
   "metadata": {},
   "outputs": [],
   "source": [
    "#way ahead of ya there, chief."
   ]
  },
  {
   "cell_type": "markdown",
   "id": "682b9226",
   "metadata": {},
   "source": [
    "15. Look at the last five rows to make sure the data is clean and as expected."
   ]
  },
  {
   "cell_type": "code",
   "execution_count": null,
   "id": "dea97abd",
   "metadata": {},
   "outputs": [],
   "source": [
    "gdp_and_internet_use.tail()"
   ]
  },
  {
   "cell_type": "markdown",
   "id": "c4d8ab9c",
   "metadata": {},
   "source": [
    "16. Subset the combined DataFrame to keep only the data for 2004, 2009, and 2014. Check that this happened correctly."
   ]
  },
  {
   "cell_type": "code",
   "execution_count": null,
   "id": "c5b826e3",
   "metadata": {},
   "outputs": [],
   "source": [
    "filter_list = ['2004', '2009', '2014']\n",
    "gdp_and_internet_use[gdp_and_internet_use.Year.isin(filter_list)]"
   ]
  },
  {
   "cell_type": "markdown",
   "id": "0c8ef527",
   "metadata": {},
   "source": [
    "17. Create three new DataFrames, one for 2004, one for 2009, and one for 2014. Give them meaningful names that aren't too long."
   ]
  },
  {
   "cell_type": "code",
   "execution_count": null,
   "id": "8917cffe",
   "metadata": {},
   "outputs": [],
   "source": [
    "f04= ['2004']\n",
    "f09= ['2009']\n",
    "f14= ['2014']\n",
    "gdpi_04 = gdp_and_internet_use[gdp_and_internet_use.Year.isin(f04)]\n",
    "gdpi_09 = gdp_and_internet_use[gdp_and_internet_use.Year.isin(f09)]\n",
    "gdpi_14 = gdp_and_internet_use[gdp_and_internet_use.Year.isin(f14)]\n",
    "print(gdpi_04)\n",
    "print(gdpi_09)\n",
    "print(gdpi_14)"
   ]
  },
  {
   "cell_type": "code",
   "execution_count": null,
   "id": "c15df230",
   "metadata": {},
   "outputs": [],
   "source": [
    "# Let's retry that one, make it cleaner.\n",
    "# if gdp_and_internet_use.Year == 2004:\n",
    "#     print(gdp_and_internet_use as gdpi_04)\n",
    "# elif gdp_and_internet_use.Year == 2009:\n",
    "#     print(gdp_and_internet_use as gdpi_09)\n",
    "# elif gdp_and_internet_use.Year == 2014:\n",
    "#     print(gdp_and_internet_use as gdpi_14)\n",
    "# else:\n",
    "#     end --Clearly that was nonsense and did not work. We will come back to this.\n",
    "\n"
   ]
  },
  {
   "cell_type": "markdown",
   "id": "22cdeb34",
   "metadata": {},
   "source": [
    "18. Which country had the highest percentage of internet users in 2014? What was the percentage? (Try typing the first 3 letters of your DataFrame name and hitting the tab key for auto-complete options)."
   ]
  },
  {
   "cell_type": "code",
   "execution_count": null,
   "id": "e580507e",
   "metadata": {},
   "outputs": [],
   "source": [
    "no_NaNsense = gdpi_14.sort_values(by= 'Internet_Users_Pct', ascending=True)\n",
    "print(gdpi_14)\n",
    "no_NaNsense\n",
    "# Way to go Iceland! 98.16% is not too shabby."
   ]
  },
  {
   "cell_type": "markdown",
   "id": "5cf32670",
   "metadata": {},
   "source": [
    "19. Which country had the lowest percentage of internet users in 2014? What was the percentage?"
   ]
  },
  {
   "cell_type": "code",
   "execution_count": null,
   "id": "e1f3f149",
   "metadata": {},
   "outputs": [],
   "source": [
    "#This question seems easy enough, just flip the previous code to be ascending= true\n",
    "gdpi_14.sort_values(by= 'Internet_Users_Pct', ascending=True)\n",
    "#And we get Timor-Leste with 1.14%. It looks like a small half-island country just above Australia"
   ]
  },
  {
   "cell_type": "markdown",
   "id": "aeeda447",
   "metadata": {},
   "source": [
    "20. Repeat for 2004 and 2009"
   ]
  },
  {
   "cell_type": "code",
   "execution_count": null,
   "id": "252b72f7",
   "metadata": {},
   "outputs": [],
   "source": [
    "int_high04 = gdpi_04.sort_values(by= 'Internet_Users_Pct', ascending=False)\n",
    "int_high09 = gdpi_09.sort_values(by= 'Internet_Users_Pct', ascending=False)\n",
    "print(int_high04.head(2)) \n",
    "print(int_high09.head(2))\n",
    "# I initially tried just df.tail but was getting NaN returns. We can't combine .dropna & .tail, so let's prefunction it.\n",
    "# int_high04.dropna()\n",
    "# int_high09.dropna()\n",
    "# print(int_high04.tail(2)) \n",
    "\n",
    "# print(int_high09.tail(2)) --Not working so far, still getting NaNs so let's go the long way.\n",
    "int_low04 = gdpi_04.sort_values(by= 'Internet_Users_Pct', ascending=True)\n",
    "int_low09 = gdpi_09.sort_values(by= 'Internet_Users_Pct', ascending=True)\n",
    "\n",
    "print(int_low04.head(2))\n",
    "print(int_low09.head(2))"
   ]
  },
  {
   "cell_type": "code",
   "execution_count": null,
   "id": "734ce20f",
   "metadata": {},
   "outputs": [],
   "source": [
    "#That's a hodgepodge of dirty code, so here's what we found out: In 2004 Sweden was the highest by .01% with a total of 83.89%\n",
    "#Myanmar was the lowest in 2004 with 0.024%\n",
    "# In 2009 Iceland pulled ahead with an even 93% but Myanmar climbed out of last place, leaving Timor-Leste with 0.185%"
   ]
  },
  {
   "cell_type": "markdown",
   "id": "412aa547",
   "metadata": {},
   "source": [
    "21. Which country had the highest gdp per capita in 2014? What was the gdp per capita?"
   ]
  },
  {
   "cell_type": "code",
   "execution_count": null,
   "id": "fe4bc3e4",
   "metadata": {},
   "outputs": [],
   "source": [
    "hi_cap14 = gdpi_04.sort_values(by= 'GDP_Per_Capita', ascending=False)\n",
    "print(hi_cap14)\n",
    "#Luxembourg, you little rascal. How'd you get 102708.212"
   ]
  },
  {
   "cell_type": "markdown",
   "id": "69292ff4",
   "metadata": {},
   "source": [
    "22. Which country had the lowest gdp per capita in 2014? What was the gdp per capita?"
   ]
  },
  {
   "cell_type": "code",
   "execution_count": null,
   "id": "d96df488",
   "metadata": {
    "scrolled": true
   },
   "outputs": [],
   "source": [
    "print(hi_cap14.tail)\n",
    "#Malawi has the lowest GDP per capita with .3475%"
   ]
  },
  {
   "cell_type": "markdown",
   "id": "7fd1ef83",
   "metadata": {},
   "source": [
    "23. Create some scatterplots:\n",
    "a. 2004 Percent Using the Internet vs GDP Per Capita\n",
    "b. 2009 Percent Using the Internet vs GDP Per Capita\n",
    "c. 2014 Percent Using the Internet vs GDP Per Capita"
   ]
  },
  {
   "cell_type": "code",
   "execution_count": null,
   "id": "5d829ca5",
   "metadata": {},
   "outputs": [],
   "source": [
    "# Plot for 04\n",
    "plt.scatter(gdpi_04.GDP_Per_Capita, gdpi_04.Internet_Users_Pct)\n",
    "plt.show()"
   ]
  },
  {
   "cell_type": "code",
   "execution_count": null,
   "id": "567cd36e",
   "metadata": {},
   "outputs": [],
   "source": [
    "#Plot for 09\n",
    "plt.scatter(gdpi_09.GDP_Per_Capita, gdpi_09.Internet_Users_Pct)\n",
    "plt.show()"
   ]
  },
  {
   "cell_type": "code",
   "execution_count": null,
   "id": "2c118ed4",
   "metadata": {},
   "outputs": [],
   "source": [
    "#Plot for 14\n",
    "plt.scatter(gdpi_14.GDP_Per_Capita, gdpi_14.Internet_Users_Pct)\n",
    "plt.show()"
   ]
  },
  {
   "cell_type": "markdown",
   "id": "33846a26",
   "metadata": {},
   "source": [
    "24. Are there differences across years? What do the plots tell you about any relationship between these two variables? Enter your observations as a markdown cell."
   ]
  },
  {
   "cell_type": "code",
   "execution_count": null,
   "id": "f8757009",
   "metadata": {},
   "outputs": [],
   "source": [
    "#Typically those with more internet usage have higher GDPs. \n",
    "#This is true as the world becomes more technologically dependent on the internet with years.\n",
    "#It also shows a cluster, that there will always be more on the lower end than the higher end. "
   ]
  },
  {
   "cell_type": "markdown",
   "id": "c592bae0",
   "metadata": {},
   "source": [
    "25. Look at the distribution of gdp per capita values for 2014. Is it unimodal?"
   ]
  },
  {
   "cell_type": "code",
   "execution_count": null,
   "id": "294bc8a2",
   "metadata": {},
   "outputs": [],
   "source": [
    "\n",
    "#plt.bar(gdpi_14.Country, gdpi_14.GDP_Per_Capita)\n",
    "#plt.show()\n",
    "gdpi_14.hist('GDP_Per_Capita', bins=10)\n",
    "#it seems very limited in scope so yes, it is unimodal"
   ]
  },
  {
   "cell_type": "markdown",
   "id": "10d4d626",
   "metadata": {},
   "source": [
    "26. Look at the distribution of Internet Use for 2014. Is it unimodal?"
   ]
  },
  {
   "cell_type": "code",
   "execution_count": null,
   "id": "13bae321",
   "metadata": {},
   "outputs": [],
   "source": [
    "gdpi_14.hist('Internet_Users_Pct', bins=10)\n",
    "#This one is not unimodel. There are many countries with under 20% using internet.\n",
    "#There is also many more pm their way towards standardization with over 40%"
   ]
  },
  {
   "cell_type": "markdown",
   "id": "62e926d0",
   "metadata": {},
   "source": [
    "27. What are the top 5 countries in terms of internet use in 2014?"
   ]
  },
  {
   "cell_type": "code",
   "execution_count": null,
   "id": "37448791",
   "metadata": {},
   "outputs": [],
   "source": [
    "an_27 = gdpi_14.sort_values(by= 'Internet_Users_Pct', ascending=False).head()\n",
    "an_27\n",
    "#I feel like Luxembourg is so small it's off because of total population configured into a percent. \n",
    "\n",
    "#gdpi_14.nlargest(5, ['Internet_Users_Pct']) Caitlyn Brown came up with this one. "
   ]
  },
  {
   "cell_type": "markdown",
   "id": "a6e605cd",
   "metadata": {},
   "source": [
    "28. Create a DataFrame called top_5_internet from the combined DataFrame that has all three years for the 5 countries that had the greatest 2014 internet usage. You should have 15 rows. Check that this is true.\n",
    "\n"
   ]
  },
  {
   "cell_type": "code",
   "execution_count": null,
   "id": "40b5c946",
   "metadata": {},
   "outputs": [],
   "source": [
    "#{'Country':['Iceland', 'Bermuda', 'Norway', 'Denmark', 'Luxembourg']}\n",
    "# target_year = gdp_and_internet_use({'Year':[2004, 2009, 2014]})\n",
    "# df_target['Internet_Users_Pct'] --This wasn't working\n",
    "\n",
    "#filter1 = gdpi_04.head() \n",
    "#top_5_internet = [gdpi_04.where(filter, inplace = True)], gdpi_09.where(filter, inplace = True), an_27]\n",
    "#print(gdpi_04.where(filter, inplace = True))\n",
    "\n",
    "#print(gdpi_09('Country':['Iceland', 'Bermuda', 'Norway', 'Denmark', 'Luxembourg']))\n",
    "#^^^ none of that worked, so lets try something new"
   ]
  },
  {
   "cell_type": "code",
   "execution_count": null,
   "id": "d7bed82d",
   "metadata": {
    "scrolled": false
   },
   "outputs": [],
   "source": [
    "dataframes = [gdpi_04,gdpi_09, gdpi_14]\n",
    "gdpi4_14 = pd.concat(dataframes)\n",
    "\n",
    "#print(gdp_and_internet_use)\n",
    "top_5_internet_df = gdpi4_14['Country'].isin(['Iceland', 'Bermuda', 'Norway', 'Denmark', 'Andorra'])\n",
    "print(top_5_internet_df)"
   ]
  },
  {
   "cell_type": "code",
   "execution_count": null,
   "id": "deef7c60",
   "metadata": {},
   "outputs": [],
   "source": []
  }
 ],
 "metadata": {
  "kernelspec": {
   "display_name": "Python 3 (ipykernel)",
   "language": "python",
   "name": "python3"
  },
  "language_info": {
   "codemirror_mode": {
    "name": "ipython",
    "version": 3
   },
   "file_extension": ".py",
   "mimetype": "text/x-python",
   "name": "python",
   "nbconvert_exporter": "python",
   "pygments_lexer": "ipython3",
   "version": "3.9.7"
  }
 },
 "nbformat": 4,
 "nbformat_minor": 5
}
